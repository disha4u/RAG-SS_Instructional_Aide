{
  "cells": [
    {
      "cell_type": "markdown",
      "metadata": {
        "id": "view-in-github",
        "colab_type": "text"
      },
      "source": [
        "<a href=\"https://colab.research.google.com/github/disha4u/RAG-SS_Instructional_Aide/blob/main/Survey_Answers.ipynb\" target=\"_parent\"><img src=\"https://colab.research.google.com/assets/colab-badge.svg\" alt=\"Open In Colab\"/></a>"
      ]
    },
    {
      "cell_type": "code",
      "execution_count": 2,
      "metadata": {
        "id": "RAUNM1n1OoJB"
      },
      "outputs": [],
      "source": [
        "%%capture\n",
        "!pip install gdown"
      ]
    },
    {
      "cell_type": "code",
      "source": [
        "%%capture\n",
        "!pip install langchain\n",
        "!pip install langchain-community\n",
        "!pip install pypdf #prerequisite for pdfloader in langchain\n",
        "!pip install lark\n",
        "!pip install openai #for using openai llm in langchain\n",
        "!pip install -q -U google-generativeai"
      ],
      "metadata": {
        "id": "rFAfAcS6MYS9"
      },
      "execution_count": 3,
      "outputs": []
    },
    {
      "cell_type": "code",
      "source": [
        "#run if you want hugginface embeddings in langchain\n",
        "%%capture\n",
        "!pip install --upgrade --quiet  langchain sentence_transformers\n",
        "!pip install langchain-huggingface"
      ],
      "metadata": {
        "id": "rjweYN3e6lb6"
      },
      "execution_count": 4,
      "outputs": []
    },
    {
      "cell_type": "code",
      "source": [
        "%%capture\n",
        "!pip install chromadb"
      ],
      "metadata": {
        "id": "W5ymmRktbys0"
      },
      "execution_count": 5,
      "outputs": []
    },
    {
      "cell_type": "code",
      "source": [
        "!gdown \"https://drive.google.com/uc?id=1b4AxN63ZDe_N7Ye9yExuRxLlzKS4Sp23&export=download\" -O \"websec.pdf\""
      ],
      "metadata": {
        "colab": {
          "base_uri": "https://localhost:8080/"
        },
        "id": "H-3vJZWqOxLE",
        "outputId": "42818d63-2a28-4fe8-ead8-67e19dabdee6"
      },
      "execution_count": 6,
      "outputs": [
        {
          "output_type": "stream",
          "name": "stdout",
          "text": [
            "Downloading...\n",
            "From: https://drive.google.com/uc?id=1b4AxN63ZDe_N7Ye9yExuRxLlzKS4Sp23&export=download\n",
            "To: /content/websec.pdf\n",
            "\r  0% 0.00/3.44M [00:00<?, ?B/s]\r100% 3.44M/3.44M [00:00<00:00, 111MB/s]\n"
          ]
        }
      ]
    },
    {
      "cell_type": "code",
      "source": [
        "import pandas as pd\n",
        "import pathlib\n",
        "import textwrap\n",
        "import re\n",
        "import numpy as np\n",
        "import time\n",
        "import google.generativeai as genai\n",
        "from google.colab import userdata\n",
        "\n",
        "from langchain.document_loaders import PyPDFLoader\n",
        "from langchain_text_splitters import RecursiveCharacterTextSplitter\n",
        "from langchain_huggingface.embeddings import HuggingFaceEmbeddings\n",
        "from langchain.vectorstores import Chroma\n",
        "from langchain.llms import OpenAI\n",
        "from langchain.prompts import PromptTemplate\n",
        "from langchain.chains import RetrievalQA\n",
        "from langchain.chat_models import ChatOpenAI\n",
        "from langchain.schema import HumanMessage, SystemMessage, AIMessage\n",
        "import openai\n",
        "import os"
      ],
      "metadata": {
        "id": "EdZe09QzO_22"
      },
      "execution_count": 7,
      "outputs": []
    },
    {
      "cell_type": "code",
      "source": [
        "from abc import ABC, abstractmethod\n",
        "\n",
        "class chatAPI(ABC):\n",
        "\n",
        "    @abstractmethod\n",
        "    def generate_answer(self):\n",
        "        pass"
      ],
      "metadata": {
        "id": "VeIrbInZUZf5"
      },
      "execution_count": 8,
      "outputs": []
    },
    {
      "cell_type": "code",
      "source": [
        "class gemini(chatAPI):\n",
        "\n",
        "  def __init__(self,key):\n",
        "    self.config=genai.configure(api_key=os.getenv('GOOGLE_API_KEY'))\n",
        "    self.model = genai.GenerativeModel('gemini-pro')\n",
        "\n",
        "  def generate_answer(self,text):\n",
        "    try:\n",
        "      response = self.model.generate_content(text+\"answer the question in short\")\n",
        "    except:\n",
        "      print( \"error occured\")\n",
        "      return None\n",
        "    return response.text\n"
      ],
      "metadata": {
        "id": "B5_w_TTOUS7S"
      },
      "execution_count": 9,
      "outputs": []
    },
    {
      "cell_type": "code",
      "source": [
        "class openai(chatAPI):\n",
        "\n",
        "  def __init__(self):\n",
        "    self.client=OpenAI(api_key=os.getenv('API_KEY'))\n",
        "\n",
        "  def generate_answer(self,text):\n",
        "    try:\n",
        "      response = self.client.chat.completions.create(\n",
        "              model=\"gpt-3.5-turbo\",\n",
        "              messages=[\n",
        "                  {\"role\": \"system\", \"content\": \"\"},\n",
        "                  {\"role\": \"user\", \"content\": text+\"answer the question in short\"}\n",
        "                  ]\n",
        "              )\n",
        "    except:\n",
        "      print( \"error occured\")\n",
        "      return None\n",
        "    return response.choices[0].message.content"
      ],
      "metadata": {
        "id": "Qn-ZK0MLVEoV"
      },
      "execution_count": 10,
      "outputs": []
    },
    {
      "cell_type": "code",
      "source": [
        "class Rag(chatAPI):\n",
        "\n",
        "  def __init__(self):\n",
        "    os.environ[\"OPENAI_API_KEY\"] = os.getenv('API_KEY')\n",
        "    self.qa_chain=None\n",
        "\n",
        "  def set_rag(self,pdfile=\"websec.pdf\",pagenos=[0,-1],persistdir=\"chromadb\"):\n",
        "    loader = PyPDFLoader(pdfile)\n",
        "    pages = loader.load()\n",
        "    pages=pages[pagenos[0]:pagenos[-1]]\n",
        "    rsplit=RecursiveCharacterTextSplitter(chunk_size=512, chunk_overlap=128, separators=['\\n\\n','\\n','\\. '])\n",
        "    docs=rsplit.split_documents(pages)\n",
        "    embeddings = HuggingFaceEmbeddings(model_name=\"sentence-transformers/all-MiniLM-L6-v2\")\n",
        "    db = Chroma.from_documents(docs, embeddings, persist_directory=persistdir)\n",
        "    llm=OpenAI(model='gpt-3.5-turbo-instruct',temperature=0)\n",
        "    template = \"\"\"Use the following pieces of context if relevant to answer the question at the end.\n",
        "               {context}\n",
        "               Question: {question}\n",
        "               Helpful Answer:\"\"\"\n",
        "    QA_CHAIN_PROMPT = PromptTemplate.from_template(template)\n",
        "    self.qa_chain = RetrievalQA.from_chain_type(\n",
        "    llm,\n",
        "    retriever=db.as_retriever(search_type=\"mmr\"),\n",
        "    return_source_documents=True,\n",
        "    chain_type_kwargs={\"prompt\": QA_CHAIN_PROMPT}\n",
        "    )\n",
        "\n",
        "  def generate_answer(self,text):\n",
        "\n",
        "    try:\n",
        "      response = self.qa_chain({\"query\":text})\n",
        "    except Exception as e:\n",
        "      print(f\"An error occurred: {e}\")\n",
        "    return response\n"
      ],
      "metadata": {
        "id": "6D43c9kTuDtr"
      },
      "execution_count": 11,
      "outputs": []
    },
    {
      "cell_type": "code",
      "execution_count": 12,
      "metadata": {
        "id": "6aL7hTIG5-_T"
      },
      "outputs": [],
      "source": [
        "df=pd.read_excel(\"Survey_ Module 6 Survey Student Analysis Report_QAfilled.xlsx\")"
      ]
    },
    {
      "cell_type": "code",
      "source": [
        "df.head(2)"
      ],
      "metadata": {
        "colab": {
          "base_uri": "https://localhost:8080/",
          "height": 164
        },
        "id": "S3qvHczlgGIq",
        "outputId": "bb493e67-7bcc-4fcc-b996-fe2659cfc48a"
      },
      "execution_count": 13,
      "outputs": [
        {
          "output_type": "execute_result",
          "data": {
            "text/plain": [
              "   Unnamed: 0              Name       ID  \\\n",
              "0           0  Marco Bassaletti   869246   \n",
              "1           1         Alex Shum  1099949   \n",
              "\n",
              "                                   Original Question  \\\n",
              "0                                                NaN   \n",
              "1  In the movie Transformer, the hacker Glen trie...   \n",
              "\n",
              "                              Narrowed Down Question  \\\n",
              "0                                                NaN   \n",
              "1  1. How can you understand Decepticons technolo...   \n",
              "\n",
              "                                              Answer  Topic Final Version  \n",
              "0                                                NaN    NaN            \\n  \n",
              "1  1. To understand Decepticons technology and me...    NaN            \\n  "
            ],
            "text/html": [
              "\n",
              "  <div id=\"df-795fa144-8b1f-47d7-927b-f84304ba8b78\" class=\"colab-df-container\">\n",
              "    <div>\n",
              "<style scoped>\n",
              "    .dataframe tbody tr th:only-of-type {\n",
              "        vertical-align: middle;\n",
              "    }\n",
              "\n",
              "    .dataframe tbody tr th {\n",
              "        vertical-align: top;\n",
              "    }\n",
              "\n",
              "    .dataframe thead th {\n",
              "        text-align: right;\n",
              "    }\n",
              "</style>\n",
              "<table border=\"1\" class=\"dataframe\">\n",
              "  <thead>\n",
              "    <tr style=\"text-align: right;\">\n",
              "      <th></th>\n",
              "      <th>Unnamed: 0</th>\n",
              "      <th>Name</th>\n",
              "      <th>ID</th>\n",
              "      <th>Original Question</th>\n",
              "      <th>Narrowed Down Question</th>\n",
              "      <th>Answer</th>\n",
              "      <th>Topic</th>\n",
              "      <th>Final Version</th>\n",
              "    </tr>\n",
              "  </thead>\n",
              "  <tbody>\n",
              "    <tr>\n",
              "      <th>0</th>\n",
              "      <td>0</td>\n",
              "      <td>Marco Bassaletti</td>\n",
              "      <td>869246</td>\n",
              "      <td>NaN</td>\n",
              "      <td>NaN</td>\n",
              "      <td>NaN</td>\n",
              "      <td>NaN</td>\n",
              "      <td>\\n</td>\n",
              "    </tr>\n",
              "    <tr>\n",
              "      <th>1</th>\n",
              "      <td>1</td>\n",
              "      <td>Alex Shum</td>\n",
              "      <td>1099949</td>\n",
              "      <td>In the movie Transformer, the hacker Glen trie...</td>\n",
              "      <td>1. How can you understand Decepticons technolo...</td>\n",
              "      <td>1. To understand Decepticons technology and me...</td>\n",
              "      <td>NaN</td>\n",
              "      <td>\\n</td>\n",
              "    </tr>\n",
              "  </tbody>\n",
              "</table>\n",
              "</div>\n",
              "    <div class=\"colab-df-buttons\">\n",
              "\n",
              "  <div class=\"colab-df-container\">\n",
              "    <button class=\"colab-df-convert\" onclick=\"convertToInteractive('df-795fa144-8b1f-47d7-927b-f84304ba8b78')\"\n",
              "            title=\"Convert this dataframe to an interactive table.\"\n",
              "            style=\"display:none;\">\n",
              "\n",
              "  <svg xmlns=\"http://www.w3.org/2000/svg\" height=\"24px\" viewBox=\"0 -960 960 960\">\n",
              "    <path d=\"M120-120v-720h720v720H120Zm60-500h600v-160H180v160Zm220 220h160v-160H400v160Zm0 220h160v-160H400v160ZM180-400h160v-160H180v160Zm440 0h160v-160H620v160ZM180-180h160v-160H180v160Zm440 0h160v-160H620v160Z\"/>\n",
              "  </svg>\n",
              "    </button>\n",
              "\n",
              "  <style>\n",
              "    .colab-df-container {\n",
              "      display:flex;\n",
              "      gap: 12px;\n",
              "    }\n",
              "\n",
              "    .colab-df-convert {\n",
              "      background-color: #E8F0FE;\n",
              "      border: none;\n",
              "      border-radius: 50%;\n",
              "      cursor: pointer;\n",
              "      display: none;\n",
              "      fill: #1967D2;\n",
              "      height: 32px;\n",
              "      padding: 0 0 0 0;\n",
              "      width: 32px;\n",
              "    }\n",
              "\n",
              "    .colab-df-convert:hover {\n",
              "      background-color: #E2EBFA;\n",
              "      box-shadow: 0px 1px 2px rgba(60, 64, 67, 0.3), 0px 1px 3px 1px rgba(60, 64, 67, 0.15);\n",
              "      fill: #174EA6;\n",
              "    }\n",
              "\n",
              "    .colab-df-buttons div {\n",
              "      margin-bottom: 4px;\n",
              "    }\n",
              "\n",
              "    [theme=dark] .colab-df-convert {\n",
              "      background-color: #3B4455;\n",
              "      fill: #D2E3FC;\n",
              "    }\n",
              "\n",
              "    [theme=dark] .colab-df-convert:hover {\n",
              "      background-color: #434B5C;\n",
              "      box-shadow: 0px 1px 3px 1px rgba(0, 0, 0, 0.15);\n",
              "      filter: drop-shadow(0px 1px 2px rgba(0, 0, 0, 0.3));\n",
              "      fill: #FFFFFF;\n",
              "    }\n",
              "  </style>\n",
              "\n",
              "    <script>\n",
              "      const buttonEl =\n",
              "        document.querySelector('#df-795fa144-8b1f-47d7-927b-f84304ba8b78 button.colab-df-convert');\n",
              "      buttonEl.style.display =\n",
              "        google.colab.kernel.accessAllowed ? 'block' : 'none';\n",
              "\n",
              "      async function convertToInteractive(key) {\n",
              "        const element = document.querySelector('#df-795fa144-8b1f-47d7-927b-f84304ba8b78');\n",
              "        const dataTable =\n",
              "          await google.colab.kernel.invokeFunction('convertToInteractive',\n",
              "                                                    [key], {});\n",
              "        if (!dataTable) return;\n",
              "\n",
              "        const docLinkHtml = 'Like what you see? Visit the ' +\n",
              "          '<a target=\"_blank\" href=https://colab.research.google.com/notebooks/data_table.ipynb>data table notebook</a>'\n",
              "          + ' to learn more about interactive tables.';\n",
              "        element.innerHTML = '';\n",
              "        dataTable['output_type'] = 'display_data';\n",
              "        await google.colab.output.renderOutput(dataTable, element);\n",
              "        const docLink = document.createElement('div');\n",
              "        docLink.innerHTML = docLinkHtml;\n",
              "        element.appendChild(docLink);\n",
              "      }\n",
              "    </script>\n",
              "  </div>\n",
              "\n",
              "\n",
              "<div id=\"df-c783c56d-09df-476b-aeda-f2672e75867f\">\n",
              "  <button class=\"colab-df-quickchart\" onclick=\"quickchart('df-c783c56d-09df-476b-aeda-f2672e75867f')\"\n",
              "            title=\"Suggest charts\"\n",
              "            style=\"display:none;\">\n",
              "\n",
              "<svg xmlns=\"http://www.w3.org/2000/svg\" height=\"24px\"viewBox=\"0 0 24 24\"\n",
              "     width=\"24px\">\n",
              "    <g>\n",
              "        <path d=\"M19 3H5c-1.1 0-2 .9-2 2v14c0 1.1.9 2 2 2h14c1.1 0 2-.9 2-2V5c0-1.1-.9-2-2-2zM9 17H7v-7h2v7zm4 0h-2V7h2v10zm4 0h-2v-4h2v4z\"/>\n",
              "    </g>\n",
              "</svg>\n",
              "  </button>\n",
              "\n",
              "<style>\n",
              "  .colab-df-quickchart {\n",
              "      --bg-color: #E8F0FE;\n",
              "      --fill-color: #1967D2;\n",
              "      --hover-bg-color: #E2EBFA;\n",
              "      --hover-fill-color: #174EA6;\n",
              "      --disabled-fill-color: #AAA;\n",
              "      --disabled-bg-color: #DDD;\n",
              "  }\n",
              "\n",
              "  [theme=dark] .colab-df-quickchart {\n",
              "      --bg-color: #3B4455;\n",
              "      --fill-color: #D2E3FC;\n",
              "      --hover-bg-color: #434B5C;\n",
              "      --hover-fill-color: #FFFFFF;\n",
              "      --disabled-bg-color: #3B4455;\n",
              "      --disabled-fill-color: #666;\n",
              "  }\n",
              "\n",
              "  .colab-df-quickchart {\n",
              "    background-color: var(--bg-color);\n",
              "    border: none;\n",
              "    border-radius: 50%;\n",
              "    cursor: pointer;\n",
              "    display: none;\n",
              "    fill: var(--fill-color);\n",
              "    height: 32px;\n",
              "    padding: 0;\n",
              "    width: 32px;\n",
              "  }\n",
              "\n",
              "  .colab-df-quickchart:hover {\n",
              "    background-color: var(--hover-bg-color);\n",
              "    box-shadow: 0 1px 2px rgba(60, 64, 67, 0.3), 0 1px 3px 1px rgba(60, 64, 67, 0.15);\n",
              "    fill: var(--button-hover-fill-color);\n",
              "  }\n",
              "\n",
              "  .colab-df-quickchart-complete:disabled,\n",
              "  .colab-df-quickchart-complete:disabled:hover {\n",
              "    background-color: var(--disabled-bg-color);\n",
              "    fill: var(--disabled-fill-color);\n",
              "    box-shadow: none;\n",
              "  }\n",
              "\n",
              "  .colab-df-spinner {\n",
              "    border: 2px solid var(--fill-color);\n",
              "    border-color: transparent;\n",
              "    border-bottom-color: var(--fill-color);\n",
              "    animation:\n",
              "      spin 1s steps(1) infinite;\n",
              "  }\n",
              "\n",
              "  @keyframes spin {\n",
              "    0% {\n",
              "      border-color: transparent;\n",
              "      border-bottom-color: var(--fill-color);\n",
              "      border-left-color: var(--fill-color);\n",
              "    }\n",
              "    20% {\n",
              "      border-color: transparent;\n",
              "      border-left-color: var(--fill-color);\n",
              "      border-top-color: var(--fill-color);\n",
              "    }\n",
              "    30% {\n",
              "      border-color: transparent;\n",
              "      border-left-color: var(--fill-color);\n",
              "      border-top-color: var(--fill-color);\n",
              "      border-right-color: var(--fill-color);\n",
              "    }\n",
              "    40% {\n",
              "      border-color: transparent;\n",
              "      border-right-color: var(--fill-color);\n",
              "      border-top-color: var(--fill-color);\n",
              "    }\n",
              "    60% {\n",
              "      border-color: transparent;\n",
              "      border-right-color: var(--fill-color);\n",
              "    }\n",
              "    80% {\n",
              "      border-color: transparent;\n",
              "      border-right-color: var(--fill-color);\n",
              "      border-bottom-color: var(--fill-color);\n",
              "    }\n",
              "    90% {\n",
              "      border-color: transparent;\n",
              "      border-bottom-color: var(--fill-color);\n",
              "    }\n",
              "  }\n",
              "</style>\n",
              "\n",
              "  <script>\n",
              "    async function quickchart(key) {\n",
              "      const quickchartButtonEl =\n",
              "        document.querySelector('#' + key + ' button');\n",
              "      quickchartButtonEl.disabled = true;  // To prevent multiple clicks.\n",
              "      quickchartButtonEl.classList.add('colab-df-spinner');\n",
              "      try {\n",
              "        const charts = await google.colab.kernel.invokeFunction(\n",
              "            'suggestCharts', [key], {});\n",
              "      } catch (error) {\n",
              "        console.error('Error during call to suggestCharts:', error);\n",
              "      }\n",
              "      quickchartButtonEl.classList.remove('colab-df-spinner');\n",
              "      quickchartButtonEl.classList.add('colab-df-quickchart-complete');\n",
              "    }\n",
              "    (() => {\n",
              "      let quickchartButtonEl =\n",
              "        document.querySelector('#df-c783c56d-09df-476b-aeda-f2672e75867f button');\n",
              "      quickchartButtonEl.style.display =\n",
              "        google.colab.kernel.accessAllowed ? 'block' : 'none';\n",
              "    })();\n",
              "  </script>\n",
              "</div>\n",
              "\n",
              "    </div>\n",
              "  </div>\n"
            ],
            "application/vnd.google.colaboratory.intrinsic+json": {
              "type": "dataframe",
              "variable_name": "df",
              "summary": "{\n  \"name\": \"df\",\n  \"rows\": 117,\n  \"fields\": [\n    {\n      \"column\": \"Unnamed: 0\",\n      \"properties\": {\n        \"dtype\": \"number\",\n        \"std\": 33,\n        \"min\": 0,\n        \"max\": 116,\n        \"num_unique_values\": 117,\n        \"samples\": [\n          44,\n          4,\n          53\n        ],\n        \"semantic_type\": \"\",\n        \"description\": \"\"\n      }\n    },\n    {\n      \"column\": \"Name\",\n      \"properties\": {\n        \"dtype\": \"string\",\n        \"num_unique_values\": 113,\n        \"samples\": [\n          \"Diksha Mishra\",\n          \"Henry Denson\",\n          \"Emerson Havener\"\n        ],\n        \"semantic_type\": \"\",\n        \"description\": \"\"\n      }\n    },\n    {\n      \"column\": \"ID\",\n      \"properties\": {\n        \"dtype\": \"number\",\n        \"std\": 253010,\n        \"min\": 50227,\n        \"max\": 1099949,\n        \"num_unique_values\": 113,\n        \"samples\": [\n          652100,\n          1064501,\n          915905\n        ],\n        \"semantic_type\": \"\",\n        \"description\": \"\"\n      }\n    },\n    {\n      \"column\": \"Original Question\",\n      \"properties\": {\n        \"dtype\": \"string\",\n        \"num_unique_values\": 112,\n        \"samples\": [\n          \"1. Olaf\\n\\n2. When everyone focuses on developing new technologies or programs, we need to think of the other side that how we also protect our software from the cyber attacks.\",\n          \"Im still not 100% sure what the difference between \\u201cpplication/x-www-form\\nurlencoded vs. multipart/form-data. I assume maybe the coding challenges this week will ouch on this though?\",\n          \"This past module, something I have become curious about is when we were talking about common request methods (in regards to HTTP), it is mentioned that there are more request methods than the ones we talked about. Is there a singular resource that covers this more in depth? I am asking this now because the lecture only listed the common request methods, meaning that there must be more request methods that are not listed.\"\n        ],\n        \"semantic_type\": \"\",\n        \"description\": \"\"\n      }\n    },\n    {\n      \"column\": \"Narrowed Down Question\",\n      \"properties\": {\n        \"dtype\": \"string\",\n        \"num_unique_values\": 79,\n        \"samples\": [\n          \"Are TypeScript and other JavaScript supersets more secure than JavaScript?\",\n          \"1. How can you understand Decepticons technology and methodology? \\n2. How can you filter Decepticons transmissions from other transmissions?\",\n          \"How does Mozzie bypass the security of the FBI database servers to steal crucial information?\"\n        ],\n        \"semantic_type\": \"\",\n        \"description\": \"\"\n      }\n    },\n    {\n      \"column\": \"Answer\",\n      \"properties\": {\n        \"dtype\": \"string\",\n        \"num_unique_values\": 78,\n        \"samples\": [\n          \"ASP.NET Core has addressed command injection concerns through input validation and encoding, mitigations like escaping and parameterized queries, and secure coding practices. While the underlying assumption is generally valid, it's still essential to follow secure coding practices and implement appropriate security measures to prevent command injection vulnerabilities.\",\n          \"1. To understand Decepticons technology and methodology, one needs to study their communication, weaponry, tactics, and history. Analyzing their behavior, motivations, and interactions with other factions could also provide insights.\\n\\n2. Filtering Decepticons transmissions from other transmissions requires specific codes, frequencies, or patterns used by the Decepticons. One can use technology that monitors and categorizes signals to identify and isolate Decepticons transmissions selectively.\",\n          \"No, muggles have not discovered magic. The dynamic content on muggle websites is created using technology, not magic.\"\n        ],\n        \"semantic_type\": \"\",\n        \"description\": \"\"\n      }\n    },\n    {\n      \"column\": \"Topic\",\n      \"properties\": {\n        \"dtype\": \"number\",\n        \"std\": null,\n        \"min\": null,\n        \"max\": null,\n        \"num_unique_values\": 0,\n        \"samples\": [],\n        \"semantic_type\": \"\",\n        \"description\": \"\"\n      }\n    },\n    {\n      \"column\": \"Final Version\",\n      \"properties\": {\n        \"dtype\": \"category\",\n        \"num_unique_values\": 1,\n        \"samples\": [],\n        \"semantic_type\": \"\",\n        \"description\": \"\"\n      }\n    }\n  ]\n}"
            }
          },
          "metadata": {},
          "execution_count": 13
        }
      ]
    },
    {
      "cell_type": "code",
      "source": [
        "df[\"Original Question\"]=df[\"Original Question\"].apply(lambda s: str(s))"
      ],
      "metadata": {
        "id": "WupH2CV_U7Ys"
      },
      "execution_count": 14,
      "outputs": []
    },
    {
      "cell_type": "code",
      "source": [
        "df[\"Answer\"]=df[\"Answer\"].apply(lambda s: str(s))"
      ],
      "metadata": {
        "id": "hRnUSU6gzYJp"
      },
      "execution_count": 15,
      "outputs": []
    },
    {
      "cell_type": "code",
      "source": [
        "df[\"Narrowed Down Question\"]=df[\"Narrowed Down Question\"].apply(lambda s: str(s))"
      ],
      "metadata": {
        "id": "dDASXHPe8D0h"
      },
      "execution_count": 16,
      "outputs": []
    },
    {
      "cell_type": "code",
      "source": [
        "from dotenv import load_dotenv\n",
        "\n",
        "load_dotenv('turmerik.env')"
      ],
      "metadata": {
        "id": "zkrkIHRuWTdI",
        "colab": {
          "base_uri": "https://localhost:8080/"
        },
        "outputId": "5490f86e-3002-481a-87b4-c5bb26349bdf"
      },
      "execution_count": 17,
      "outputs": [
        {
          "output_type": "execute_result",
          "data": {
            "text/plain": [
              "True"
            ]
          },
          "metadata": {},
          "execution_count": 17
        }
      ]
    },
    {
      "cell_type": "code",
      "source": [
        "rag=Rag()\n",
        "rag.set_rag()"
      ],
      "metadata": {
        "id": "vauGbdWdUuhI",
        "colab": {
          "base_uri": "https://localhost:8080/"
        },
        "outputId": "0ee562f3-95d8-4a01-a204-c0624367e869"
      },
      "execution_count": 19,
      "outputs": [
        {
          "output_type": "stream",
          "name": "stderr",
          "text": [
            "/usr/local/lib/python3.10/dist-packages/huggingface_hub/utils/_auth.py:94: UserWarning: \n",
            "The secret `HF_TOKEN` does not exist in your Colab secrets.\n",
            "To authenticate with the Hugging Face Hub, create a token in your settings tab (https://huggingface.co/settings/tokens), set it as secret in your Google Colab and restart your session.\n",
            "You will be able to reuse this secret in all of your notebooks.\n",
            "Please note that authentication is recommended but still optional to access public models or datasets.\n",
            "  warnings.warn(\n",
            "<ipython-input-11-73c6477df354>:15: LangChainDeprecationWarning: The class `OpenAI` was deprecated in LangChain 0.0.10 and will be removed in 1.0. An updated version of the class exists in the :class:`~langchain-openai package and should be used instead. To use it run `pip install -U :class:`~langchain-openai` and import as `from :class:`~langchain_openai import OpenAI``.\n",
            "  llm=OpenAI(model='gpt-3.5-turbo-instruct',temperature=0)\n"
          ]
        }
      ]
    },
    {
      "cell_type": "code",
      "source": [
        "res=rag.generate_answer(df[\"Narrowed Down Question\"][1])"
      ],
      "metadata": {
        "colab": {
          "base_uri": "https://localhost:8080/"
        },
        "id": "ec0dDTKj_vtR",
        "outputId": "d683ac62-6197-4a77-bc47-0fba424b8216"
      },
      "execution_count": 18,
      "outputs": [
        {
          "output_type": "stream",
          "name": "stderr",
          "text": [
            "<ipython-input-10-941cbd007c54>:31: LangChainDeprecationWarning: The method `Chain.__call__` was deprecated in langchain 0.1.0 and will be removed in 1.0. Use :meth:`~invoke` instead.\n",
            "  response = self.qa_chain({\"query\":text})\n"
          ]
        }
      ]
    },
    {
      "cell_type": "code",
      "source": [
        "res['result']"
      ],
      "metadata": {
        "colab": {
          "base_uri": "https://localhost:8080/",
          "height": 122
        },
        "id": "pKHu4MV5hFhe",
        "outputId": "6fac2cce-7888-457d-8cb1-7244f7a19f92"
      },
      "execution_count": 19,
      "outputs": [
        {
          "output_type": "execute_result",
          "data": {
            "text/plain": [
              "'\\n1. Understanding Decepticons technology and methodology requires a deep understanding of Internet Protocol and cryptographic algorithms. It involves balancing multiple concepts and being familiar with various types of encryption and decryption keys. It also requires knowledge of common security vulnerabilities and how to protect against them.\\n\\n2. To filter Decepticons transmissions from other transmissions, you can use encryption techniques and hash functions. These can help identify and fingerprint data, making it easier to distinguish Decepticons transmissions from others. Additionally, being familiar with common security vulnerabilities can help identify and block Decepticons transmissions.'"
            ],
            "application/vnd.google.colaboratory.intrinsic+json": {
              "type": "string"
            }
          },
          "metadata": {},
          "execution_count": 19
        }
      ]
    },
    {
      "cell_type": "code",
      "source": [
        "res['source_documents']"
      ],
      "metadata": {
        "colab": {
          "base_uri": "https://localhost:8080/"
        },
        "id": "xzDmG9LnpPQK",
        "outputId": "5de15d3a-ef0b-4177-8627-f9f78bca3bda"
      },
      "execution_count": 20,
      "outputs": [
        {
          "output_type": "execute_result",
          "data": {
            "text/plain": [
              "[Document(metadata={'page': 147, 'source': 'websec.pdf'}, page_content='jargon. Understanding how it fits into the Internet Protocol requires balanc -\\ning multiple concepts in your head at once, so thank you for your patience. \\nLet’s see how the various types of cryptographic algorithms we have dis -\\ncussed are used by TLS.\\nThe TLS Handshake\\nTLS uses a combination of cryptographic algorithms to efficiently and \\nsafely pass information. For speed, most data packets passed over TLS will \\nbe encrypted using a symmetric encryption algorithm commonly referred'),\n",
              " Document(metadata={'page': 145, 'source': 'websec.pdf'}, page_content='decryption key —the corresponding key required to unscramble the data. The \\ninput data and keys are typically encoded as binary data, though the keys \\nmay be expressed as strings of text for readability.\\nMany encryption algorithms exist, and more continue to be invented \\nby mathematicians and security researchers. They can be classified into \\na few categories: symmetric and asymmetric encryption algorithms (for \\nciphering data), hash functions (for fingerprinting data and building other'),\n",
              " Document(metadata={'page': 24, 'source': 'websec.pdf'}, page_content='generally easy to use.\\nLearning about the most common security vulnerabilities, and knowing \\nhow to plug them, will protect your systems against 99 percent of attacks. \\nThere will always be ways for a very technical adversary to compromise your \\nsystem, but unless you are running an Iranian nuclear reactor or a US polit -\\nical campaign, this thought shouldn’t keep you up at night. \\nWhat’s in This Book\\nThe book is divided into two parts. Part I covers the nuts and bolts of how'),\n",
              " Document(metadata={'page': 25, 'source': 'websec.pdf'}, page_content='information. This chapter tells you how to stop that immediately.\\nChapter 13: Encryption \\nThis chapter shows how to properly use encryption and explains why it \\nis important on the internet. Be prepared for some light mathematics.')]"
            ]
          },
          "metadata": {},
          "execution_count": 20
        }
      ]
    },
    {
      "cell_type": "code",
      "source": [
        "df[\"rag_answer\"]=df[\"Narrowed Down Question\"].apply(lambda s: rag.generate_answer(s)  if pd.notna(s) else None)"
      ],
      "metadata": {
        "colab": {
          "base_uri": "https://localhost:8080/"
        },
        "id": "zrDpBSP7h8X2",
        "outputId": "b21eea5c-6d5f-4fed-d853-8f3280e66190"
      },
      "execution_count": 20,
      "outputs": [
        {
          "output_type": "stream",
          "name": "stderr",
          "text": [
            "<ipython-input-11-73c6477df354>:31: LangChainDeprecationWarning: The method `Chain.__call__` was deprecated in langchain 0.1.0 and will be removed in 1.0. Use :meth:`~invoke` instead.\n",
            "  response = self.qa_chain({\"query\":text})\n"
          ]
        }
      ]
    },
    {
      "cell_type": "code",
      "source": [
        "df.to_excel(\"Survey_ Module 6 Survey Student Analysis Report_QAfilled.xlsx\")"
      ],
      "metadata": {
        "id": "gWbuMGDi4kLw"
      },
      "execution_count": 21,
      "outputs": []
    },
    {
      "cell_type": "code",
      "source": [
        "# GOOGLE_API_KEY='**********************'\n",
        "# genai.configure(api_key=GOOGLE_API_KEY)\n",
        "# model = genai.GenerativeModel('gemini-pro')"
      ],
      "metadata": {
        "id": "m0uNHFN0RJM-"
      },
      "execution_count": null,
      "outputs": []
    },
    {
      "cell_type": "code",
      "source": [
        "#response = model.generate_content(df[\"Original Question\"][107]+\"Summarise the question.\")"
      ],
      "metadata": {
        "id": "Zg4DB-BqG1wX"
      },
      "execution_count": null,
      "outputs": []
    },
    {
      "cell_type": "code",
      "source": [
        "#response.text\n",
        "\"\"\"\n",
        "* How do web technologies (TLS, CMS) ensure secure transmission?\n",
        "* What vulnerabilities remain despite cryptography?\n",
        "* How can cryptography be exploited?\n",
        "\"\"\""
      ],
      "metadata": {
        "colab": {
          "base_uri": "https://localhost:8080/",
          "height": 53
        },
        "id": "mCuTf7iwIBHS",
        "outputId": "481f4922-5911-4c66-f474-1878a618e1aa"
      },
      "execution_count": null,
      "outputs": [
        {
          "output_type": "execute_result",
          "data": {
            "text/plain": [
              "'* How do web technologies (TLS, CMS) ensure secure transmission?\\n\\n* What vulnerabilities remain despite cryptography?\\n\\n* How can cryptography be exploited?'"
            ],
            "application/vnd.google.colaboratory.intrinsic+json": {
              "type": "string"
            }
          },
          "metadata": {},
          "execution_count": 17
        }
      ]
    },
    {
      "cell_type": "code",
      "source": [
        "#response = model.generate_content(response.text)"
      ],
      "metadata": {
        "id": "iRAkKQ6HUjQW"
      },
      "execution_count": null,
      "outputs": []
    },
    {
      "cell_type": "code",
      "source": [
        "#response.text\n",
        "\"\"\"\n",
        "**How do web technologies (TLS, CMS) ensure secure transmission?**\n",
        "* **TLS (Transport Layer Security)** is a cryptographic protocol that provides secure communication over the Internet. It is used to protect data in transit between two parties, such as a web browser and a web server. TLS works by encrypting the data before it is sent over the network, and then decrypting it when it is received. This ensures that the data cannot be intercepted and read by unauthorized parties.\n",
        "* **CMS (Content Management System)** is a software application that allows users to create and manage digital content. CMSs typically include features such as a text editor, a media manager, and a template system. CMSs can be used to create websites, blogs, and other types of online content. CMSs typically use TLS to protect data in transit, and they may also use other security features such as access control and encryption at rest.\n",
        "**What vulnerabilities remain despite cryptography?**\n",
        "* **Man-in-the-middle attacks:** In a man-in-the-middle attack, an attacker intercepts communications between two parties and impersonates one of them. This allows the attacker to read and modify the data being transmitted. Man-in-the-middle attacks can be difficult to detect, and they can be used to steal sensitive information or compromise security systems.\n",
        "* **Side-channel attacks:** Side-channel attacks are attacks that exploit information that is leaked from a cryptographic system during its operation. This information can be used to recover the cryptographic keys or to decrypt encrypted data. Side-channel attacks can be difficult to prevent, and they can be used to compromise even the strongest cryptographic algorithms.\n",
        "* **Zero-day attacks:** Zero-day attacks are attacks that exploit vulnerabilities in software that have not yet been patched. Zero-day attacks can be very effective, and they can be used to compromise even the most secure systems.\n",
        "**How can cryptography be exploited?**\n",
        "* **Cryptojacking:** Cryptojacking is a type of attack in which an attacker uses a victim's computer to mine cryptocurrency. Cryptojacking attacks can be carried out through malicious websites, email attachments, or software downloads.\n",
        "* **Phishing attacks:** Phishing attacks are attempts to trick users into revealing sensitive information, such as their passwords or credit card numbers. Phishing attacks can be carried out through email, text messages, or websites.\n",
        "* **Ransomware attacks:** Ransomware attacks are attacks in which an attacker encrypts a victim's files and demands a ransom payment in exchange for the decryption key. Ransomware attacks can be very disruptive, and they can cause significant financial losses.\n",
        "\"\"\""
      ],
      "metadata": {
        "colab": {
          "base_uri": "https://localhost:8080/",
          "height": 175
        },
        "id": "tj6BWriGHJtB",
        "outputId": "a6514aac-f2ef-468f-80c5-19d1cde2290a"
      },
      "execution_count": null,
      "outputs": [
        {
          "output_type": "execute_result",
          "data": {
            "text/plain": [
              "\"**How do web technologies (TLS, CMS) ensure secure transmission?**\\n\\n* **TLS (Transport Layer Security)** is a cryptographic protocol that provides secure communication over the Internet. It is used to protect data in transit between two parties, such as a web browser and a web server. TLS works by encrypting the data before it is sent over the network, and then decrypting it when it is received. This ensures that the data cannot be intercepted and read by unauthorized parties.\\n* **CMS (Content Management System)** is a software application that allows users to create and manage digital content. CMSs typically include features such as a text editor, a media manager, and a template system. CMSs can be used to create websites, blogs, and other types of online content. CMSs typically use TLS to protect data in transit, and they may also use other security features such as access control and encryption at rest.\\n\\n**What vulnerabilities remain despite cryptography?**\\n\\n* **Man-in-the-middle attacks:** In a man-in-the-middle attack, an attacker intercepts communications between two parties and impersonates one of them. This allows the attacker to read and modify the data being transmitted. Man-in-the-middle attacks can be difficult to detect, and they can be used to steal sensitive information or compromise security systems.\\n* **Side-channel attacks:** Side-channel attacks are attacks that exploit information that is leaked from a cryptographic system during its operation. This information can be used to recover the cryptographic keys or to decrypt encrypted data. Side-channel attacks can be difficult to prevent, and they can be used to compromise even the strongest cryptographic algorithms.\\n* **Zero-day attacks:** Zero-day attacks are attacks that exploit vulnerabilities in software that have not yet been patched. Zero-day attacks can be very effective, and they can be used to compromise even the most secure systems.\\n\\n**How can cryptography be exploited?**\\n\\n* **Cryptojacking:** Cryptojacking is a type of attack in which an attacker uses a victim's computer to mine cryptocurrency. Cryptojacking attacks can be carried out through malicious websites, email attachments, or software downloads.\\n* **Phishing attacks:** Phishing attacks are attempts to trick users into revealing sensitive information, such as their passwords or credit card numbers. Phishing attacks can be carried out through email, text messages, or websites.\\n* **Ransomware attacks:** Ransomware attacks are attacks in which an attacker encrypts a victim's files and demands a ransom payment in exchange for the decryption key. Ransomware attacks can be very disruptive, and they can cause significant financial losses.\""
            ],
            "application/vnd.google.colaboratory.intrinsic+json": {
              "type": "string"
            }
          },
          "metadata": {},
          "execution_count": 19
        }
      ]
    },
    {
      "cell_type": "code",
      "source": [
        "# for m in genai.list_models():\n",
        "#   if 'generateContent' in m.supported_generation_methods:\n",
        "#     print(m.name)"
      ],
      "metadata": {
        "id": "XOgPi0KhT-PN"
      },
      "execution_count": null,
      "outputs": []
    },
    {
      "cell_type": "code",
      "source": [
        "#len(df)\n",
        "#117"
      ],
      "metadata": {
        "colab": {
          "base_uri": "https://localhost:8080/"
        },
        "id": "Dhoz0HKVghA0",
        "outputId": "7b1fdc4a-09f4-413c-d2ed-caba7cd79cbb"
      },
      "execution_count": null,
      "outputs": [
        {
          "output_type": "execute_result",
          "data": {
            "text/plain": [
              "117"
            ]
          },
          "metadata": {},
          "execution_count": 20
        }
      ]
    },
    {
      "cell_type": "code",
      "source": [
        "# for i in range(118):\n",
        "#   if i%10==0:\n",
        "#     print(str(i)+\"th interation\")\n",
        "\n",
        "#   if df[\"Original Question\"][i]==\"nan\" or df[\"Answer\"][i]!=\"nan\":\n",
        "#     print(i)\n",
        "#     continue\n",
        "#   q=model.generate_content(df[\"Original Question\"][i]+\"Summarise the question, dont give the answer to it .\")\n",
        "#   df.loc[i,\"Narrowed Down Question\"]=q.text\n",
        "#   #print(q.text)\n",
        "#   #time.sleep(5)\n",
        "#   a=model.generate_content(q.text+\"answer the question in short\")\n",
        "#   #print(a.text)\n",
        "#   df.loc[i,\"Answer\"]=a.text\n",
        "#   #time.sleep(4)\n",
        "#   #print(\"---------------------------------------------------\")"
      ],
      "metadata": {
        "id": "hMqpVyNrbyAE"
      },
      "execution_count": null,
      "outputs": []
    },
    {
      "cell_type": "code",
      "source": [
        "#df.to_excel(\"Survey_ Module 6 Survey Student Analysis Report_QAfilled.xlsx\")"
      ],
      "metadata": {
        "id": "mnoVvfDmx3kc"
      },
      "execution_count": null,
      "outputs": []
    }
  ],
  "metadata": {
    "colab": {
      "provenance": [],
      "include_colab_link": true
    },
    "kernelspec": {
      "display_name": "Python 3",
      "name": "python3"
    },
    "language_info": {
      "name": "python"
    }
  },
  "nbformat": 4,
  "nbformat_minor": 0
}